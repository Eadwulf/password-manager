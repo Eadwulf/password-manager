{
 "cells": [
  {
   "cell_type": "code",
   "execution_count": null,
   "id": "0bfa3e76",
   "metadata": {},
   "outputs": [],
   "source": [
    "from setup import setup_django\n",
    "setup_django()"
   ]
  },
  {
   "cell_type": "code",
   "execution_count": null,
   "id": "eb55e13d",
   "metadata": {},
   "outputs": [],
   "source": [
    "from passwords.models import Password\n",
    "from websites.models import Website\n",
    "from accounts.models import CustomUser as User"
   ]
  },
  {
   "cell_type": "code",
   "execution_count": null,
   "id": "48be2205",
   "metadata": {},
   "outputs": [],
   "source": [
    "user = User.objects.get(id=4)"
   ]
  },
  {
   "cell_type": "code",
   "execution_count": 12,
   "id": "e030bff9",
   "metadata": {},
   "outputs": [
    {
     "name": "stdout",
     "output_type": "stream",
     "text": [
      "0e23a496100d6563b4cb46bfac688804d3ede25b394e07c2a8878a24920e58b9\n"
     ]
    }
   ],
   "source": [
    "password = Password.objects.create(\n",
    "    account = user,\n",
    "    username = user.username,\n",
    "    password_hash = Password.get_hash(Password, 'Strongest-Password'),\n",
    "    website = Website.objects.create(\n",
    "        name = 'Password Manager Website',\n",
    "        url = 'https://www.password-manager.com/',\n",
    "        description = 'A secure data-encrypted password manager',\n",
    "    ),\n",
    ")\n",
    "\n",
    "print(password.password_hash)"
   ]
  }
 ],
 "metadata": {
  "kernelspec": {
   "display_name": "Django Shell-Plus",
   "language": "python",
   "name": "django_extensions"
  },
  "language_info": {
   "codemirror_mode": {
    "name": "ipython",
    "version": 3
   },
   "file_extension": ".py",
   "mimetype": "text/x-python",
   "name": "python",
   "nbconvert_exporter": "python",
   "pygments_lexer": "ipython3",
   "version": "3.10.9"
  }
 },
 "nbformat": 4,
 "nbformat_minor": 5
}
