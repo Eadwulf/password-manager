{
 "cells": [
  {
   "cell_type": "code",
   "execution_count": 1,
   "id": "0bfa3e76",
   "metadata": {},
   "outputs": [],
   "source": [
    "import os\n",
    "import django\n",
    "os.environ.setdefault('DJANGO_SETTINGS_MODULE', 'rest.settings')\n",
    "os.environ[\"DJANGO_ALLOW_ASYNC_UNSAFE\"] = \"true\"\n",
    "django.setup()"
   ]
  },
  {
   "cell_type": "code",
   "execution_count": 2,
   "id": "e7ce7da8",
   "metadata": {},
   "outputs": [],
   "source": [
    "import hashlib"
   ]
  },
  {
   "cell_type": "code",
   "execution_count": 3,
   "id": "eb55e13d",
   "metadata": {},
   "outputs": [],
   "source": [
    "from passwords.models import Password, Website\n",
    "from accounts.models import CustomUser as User"
   ]
  },
  {
   "cell_type": "code",
   "execution_count": 4,
   "id": "48be2205",
   "metadata": {},
   "outputs": [],
   "source": [
    "user = User.objects.get(id=4)"
   ]
  },
  {
   "cell_type": "code",
   "execution_count": 5,
   "id": "e030bff9",
   "metadata": {},
   "outputs": [
    {
     "data": {
      "text/plain": [
       "<Password: Password for Mapache>"
      ]
     },
     "execution_count": 5,
     "metadata": {},
     "output_type": "execute_result"
    }
   ],
   "source": [
    "def get_hash(string):\n",
    "    return hashlib.sha256(string.encode('utf-8')).hexdigest()\n",
    "    \n",
    "\n",
    "password = Password.objects.create(\n",
    "    account = user,\n",
    "    username = user.username,\n",
    "    password_hash = get_hash('Strongest-Password'),\n",
    "    website = Website.objects.create(\n",
    "        name = 'Password Manager Website',\n",
    "        url = 'https://www.password-manager.com/',\n",
    "        description = 'A secure data-encrypted password manager',\n",
    "    ),\n",
    ")\n",
    "\n",
    "print(password.password_hash)"
   ]
  }
 ],
 "metadata": {
  "kernelspec": {
   "display_name": "Django Shell-Plus",
   "language": "python",
   "name": "django_extensions"
  },
  "language_info": {
   "codemirror_mode": {
    "name": "ipython",
    "version": 3
   },
   "file_extension": ".py",
   "mimetype": "text/x-python",
   "name": "python",
   "nbconvert_exporter": "python",
   "pygments_lexer": "ipython3",
   "version": "3.10.9"
  }
 },
 "nbformat": 4,
 "nbformat_minor": 5
}
